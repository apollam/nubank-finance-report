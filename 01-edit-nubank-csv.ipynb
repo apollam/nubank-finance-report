{
 "cells": [
  {
   "cell_type": "code",
   "execution_count": 1,
   "id": "worse-level",
   "metadata": {},
   "outputs": [],
   "source": [
    "!pip install seaborn --quiet"
   ]
  },
  {
   "cell_type": "code",
   "execution_count": 2,
   "id": "acquired-limit",
   "metadata": {},
   "outputs": [],
   "source": [
    "import pandas as pd\n",
    "import numpy as np\n",
    "import re\n",
    "import matplotlib\n",
    "import matplotlib.pyplot as plt\n",
    "import seaborn as sns\n",
    "\n",
    "%matplotlib inline\n",
    "pd.options.display.max_columns = 2000\n",
    "pd.options.display.max_rows = 2000"
   ]
  },
  {
   "cell_type": "markdown",
   "id": "competent-glucose",
   "metadata": {},
   "source": [
    "<br> \n",
    "\n",
    "# AUXILIAR FUNCTIONS"
   ]
  },
  {
   "cell_type": "code",
   "execution_count": 3,
   "id": "saved-postcard",
   "metadata": {},
   "outputs": [],
   "source": [
    "def recategorize(df, title, category_new):\n",
    "    \"\"\"Given a value passed in title_value, rename its category.\"\"\"\n",
    "\n",
    "    idxs = list()\n",
    "    if isinstance(title, str):\n",
    "        title = [title]\n",
    "        \n",
    "    for item in title:\n",
    "        for idx, row in df.iterrows():\n",
    "            if item.lower() in row['title'].lower():\n",
    "                idxs.append(idx)\n",
    "        df.loc[idxs, 'category'] = category_new\n",
    "    \n",
    "    return df"
   ]
  },
  {
   "cell_type": "code",
   "execution_count": 4,
   "id": "verbal-leonard",
   "metadata": {},
   "outputs": [],
   "source": [
    "def group_categories(df, categories, category_new):\n",
    "    idxs = list()\n",
    "    for category in categories:\n",
    "        aux = df[df['category'] == category]\n",
    "        idxs = np.append(idxs, aux.index.values)\n",
    "    df.loc[idxs, 'category'] = category_new\n",
    "    \n",
    "    return df"
   ]
  },
  {
   "cell_type": "code",
   "execution_count": 5,
   "id": "heavy-league",
   "metadata": {},
   "outputs": [],
   "source": [
    "def get_categories_expenses(df):\n",
    "    categories = []\n",
    "    for category in df['category'].unique().tolist():\n",
    "        categories.append([category, df[df['category'] == category].amount.sum()])\n",
    "\n",
    "    categories = pd.DataFrame(categories, columns=['category', 'sum']).set_index('category')\n",
    "    \n",
    "    return categories['sum'].sort_values(ascending=False)"
   ]
  },
  {
   "cell_type": "code",
   "execution_count": 6,
   "id": "incorrect-animation",
   "metadata": {},
   "outputs": [],
   "source": [
    "def add_expense_manually(df, title, amount, category, date='02/10/2020'):\n",
    "    return df.append(pd.DataFrame(\n",
    "                        {\"date\": [date], \n",
    "                         \"category\": [category],  \n",
    "                         \"title\": [title],\n",
    "                         \"amount\": [amount]}), ignore_index=True)"
   ]
  },
  {
   "cell_type": "markdown",
   "id": "designed-merchandise",
   "metadata": {},
   "source": [
    "# Set attributes"
   ]
  },
  {
   "cell_type": "code",
   "execution_count": 11,
   "id": "scenic-concord",
   "metadata": {},
   "outputs": [],
   "source": [
    "month = '2021-11'"
   ]
  },
  {
   "cell_type": "markdown",
   "id": "endless-static",
   "metadata": {},
   "source": [
    "<br>\n",
    "\n",
    "# GET DATA"
   ]
  },
  {
   "cell_type": "markdown",
   "id": "passing-seeker",
   "metadata": {},
   "source": [
    "### Get nubank"
   ]
  },
  {
   "cell_type": "code",
   "execution_count": 12,
   "id": "israeli-premium",
   "metadata": {},
   "outputs": [],
   "source": [
    "nubank = pd.read_csv('faturas/nubank-{}.csv'.format(month)).dropna()"
   ]
  },
  {
   "cell_type": "markdown",
   "id": "detailed-sequence",
   "metadata": {},
   "source": [
    "<br> \n",
    "\n",
    "# COSTS"
   ]
  },
  {
   "cell_type": "markdown",
   "id": "interior-scanner",
   "metadata": {},
   "source": [
    "### > Raw categories"
   ]
  },
  {
   "cell_type": "code",
   "execution_count": 16,
   "id": "hungry-breach",
   "metadata": {},
   "outputs": [
    {
     "data": {
      "text/plain": [
       "category\n",
       "contas          2595.00\n",
       "restaurante     1032.34\n",
       "serviços         898.21\n",
       "supermercado     795.11\n",
       "eletrônicos      649.05\n",
       "casa             529.53\n",
       "transporte       489.70\n",
       "viagem           465.00\n",
       "outros           270.73\n",
       "vestuário        211.36\n",
       "saúde            156.48\n",
       "lazer             47.27\n",
       "educação           9.90\n",
       "Name: sum, dtype: float64"
      ]
     },
     "execution_count": 16,
     "metadata": {},
     "output_type": "execute_result"
    }
   ],
   "source": [
    "get_categories_expenses(nubank)"
   ]
  },
  {
   "cell_type": "markdown",
   "id": "integral-brief",
   "metadata": {},
   "source": [
    "### > Add expenses paid using debit"
   ]
  },
  {
   "cell_type": "code",
   "execution_count": 15,
   "id": "rotary-creativity",
   "metadata": {},
   "outputs": [],
   "source": [
    "nubank = add_expense_manually(df=nubank, title='Aluguel+Condominio+água', amount=2000, category='contas')\n",
    "nubank = add_expense_manually(df=nubank, title='Luz', amount=200, category='contas')\n",
    "nubank = add_expense_manually(df=nubank, title='Internet', amount=105, category='contas')\n",
    "nubank = add_expense_manually(df=nubank, title='Gás', amount=50, category='contas')\n",
    "nubank = add_expense_manually(df=nubank, title='Ervas', amount=110, category='contas')\n",
    "nubank = add_expense_manually(df=nubank, title='Gás', amount=50, category='contas')\n",
    "nubank = add_expense_manually(df=nubank, title='Disney+', amount=10, category='contas')"
   ]
  },
  {
   "cell_type": "markdown",
   "id": "related-artist",
   "metadata": {},
   "source": [
    "### * CHECK HERE *\n",
    "\n",
    "Check if categories are correct and adjust the wrongly categorized expenses"
   ]
  },
  {
   "cell_type": "code",
   "execution_count": 20,
   "id": "micro-african",
   "metadata": {
    "scrolled": true
   },
   "outputs": [
    {
     "data": {
      "text/plain": [
       "category\n",
       "contas          2595.00\n",
       "restaurante     1032.34\n",
       "serviços         898.21\n",
       "supermercado     795.11\n",
       "eletrônicos      649.05\n",
       "casa             529.53\n",
       "transporte       489.70\n",
       "viagem           465.00\n",
       "outros           270.73\n",
       "vestuário        211.36\n",
       "saúde            156.48\n",
       "lazer             47.27\n",
       "educação           9.90\n",
       "Name: sum, dtype: float64"
      ]
     },
     "execution_count": 20,
     "metadata": {},
     "output_type": "execute_result"
    }
   ],
   "source": [
    "get_categories_expenses(nubank)"
   ]
  },
  {
   "cell_type": "code",
   "execution_count": 29,
   "id": "infrared-triple",
   "metadata": {},
   "outputs": [
    {
     "data": {
      "text/html": [
       "<div>\n",
       "<style scoped>\n",
       "    .dataframe tbody tr th:only-of-type {\n",
       "        vertical-align: middle;\n",
       "    }\n",
       "\n",
       "    .dataframe tbody tr th {\n",
       "        vertical-align: top;\n",
       "    }\n",
       "\n",
       "    .dataframe thead th {\n",
       "        text-align: right;\n",
       "    }\n",
       "</style>\n",
       "<table border=\"1\" class=\"dataframe\">\n",
       "  <thead>\n",
       "    <tr style=\"text-align: right;\">\n",
       "      <th></th>\n",
       "      <th>date</th>\n",
       "      <th>category</th>\n",
       "      <th>title</th>\n",
       "      <th>amount</th>\n",
       "    </tr>\n",
       "  </thead>\n",
       "  <tbody>\n",
       "    <tr>\n",
       "      <th>18</th>\n",
       "      <td>2021-09-27</td>\n",
       "      <td>educação</td>\n",
       "      <td>Amazonprimebr</td>\n",
       "      <td>9.9</td>\n",
       "    </tr>\n",
       "  </tbody>\n",
       "</table>\n",
       "</div>"
      ],
      "text/plain": [
       "          date  category          title  amount\n",
       "18  2021-09-27  educação  Amazonprimebr     9.9"
      ]
     },
     "execution_count": 29,
     "metadata": {},
     "output_type": "execute_result"
    }
   ],
   "source": [
    "# Check categories\n",
    "nubank[nubank['category'] == 'educação']"
   ]
  },
  {
   "cell_type": "markdown",
   "id": "af446450",
   "metadata": {},
   "source": [
    "### > Recategorize wrong categorized purchases"
   ]
  },
  {
   "cell_type": "code",
   "execution_count": 30,
   "id": "1559b2f3",
   "metadata": {},
   "outputs": [],
   "source": [
    "nubank = recategorize(df=nubank, \n",
    "                      title=['farmacia', 'Gympass'], \n",
    "                      category_new='saúde')\n",
    "nubank = recategorize(df=nubank, \n",
    "                      title=['Mercadolivre', 'Mercpago', 'Mercadolibre',\n",
    "                             'Ame Digital', 'Amazon.com.br', 'Mercpag'],\n",
    "                      category_new='novas_compras')\n",
    "nubank = recategorize(df=nubank, \n",
    "                      title=['Nutrindus', 'pizzaria', 'restaurante', 'eats', 'Rappi'], \n",
    "                      category_new='restaurante') \n",
    "nubank = recategorize(df=nubank, \n",
    "                      title=['Amazonprimebr', 'Apple.Com/Bi', \n",
    "                             'Iugu *Contabili', 'Pb *Samsung', \n",
    "                             'Picpay'], \n",
    "                      category_new='contas')\n",
    "nubank = recategorize(df=nubank, \n",
    "                      title=['Sympla', \n",
    "                             'Picpay'], \n",
    "                      category_new='lazer')\n",
    "nubank = recategorize(df=nubank, \n",
    "                      title=['boteco', 'cervejaria', ' bar', 'growleria', 'Keromaisbebidas', 'Vino'], \n",
    "                      category_new='bar')\n",
    "nubank = recategorize(df=nubank, \n",
    "                      title=['Sonyplaysta', 'Steamgames.Com'], \n",
    "                      category_new='videogames')\n",
    "nubank = recategorize(df=nubank, \n",
    "                      title=['racoes', 'Ifd*Ifood', 'Petz'], \n",
    "                      category_new='supermercado')"
   ]
  },
  {
   "cell_type": "markdown",
   "id": "b5d839ed",
   "metadata": {},
   "source": [
    "### > Group categories"
   ]
  },
  {
   "cell_type": "code",
   "execution_count": 31,
   "id": "ec9b321d",
   "metadata": {},
   "outputs": [],
   "source": [
    "nubank = group_categories(df=nubank, \n",
    "                          categories=['outros', 'vestuário', 'lazer',\n",
    "                                      'eletrônicos', 'casa', 'educação'], \n",
    "                          category_new='novas_compras')"
   ]
  },
  {
   "cell_type": "markdown",
   "id": "f411de8f",
   "metadata": {},
   "source": [
    "### * CHECK AGAIN *\n",
    "\n",
    "Check if categories are correct and adjust the wrongly categorized expenses"
   ]
  },
  {
   "cell_type": "code",
   "execution_count": 32,
   "id": "6b22bd1d",
   "metadata": {
    "scrolled": true
   },
   "outputs": [
    {
     "data": {
      "text/plain": [
       "category\n",
       "contas           2604.90\n",
       "novas_compras    2131.33\n",
       "restaurante      1032.34\n",
       "supermercado      953.90\n",
       "transporte        489.70\n",
       "viagem            465.00\n",
       "saúde             236.28\n",
       "serviços          236.23\n",
       "Name: sum, dtype: float64"
      ]
     },
     "execution_count": 32,
     "metadata": {},
     "output_type": "execute_result"
    }
   ],
   "source": [
    "get_categories_expenses(nubank)"
   ]
  },
  {
   "cell_type": "code",
   "execution_count": 37,
   "id": "6fdfda00",
   "metadata": {
    "scrolled": false
   },
   "outputs": [
    {
     "data": {
      "text/html": [
       "<div>\n",
       "<style scoped>\n",
       "    .dataframe tbody tr th:only-of-type {\n",
       "        vertical-align: middle;\n",
       "    }\n",
       "\n",
       "    .dataframe tbody tr th {\n",
       "        vertical-align: top;\n",
       "    }\n",
       "\n",
       "    .dataframe thead th {\n",
       "        text-align: right;\n",
       "    }\n",
       "</style>\n",
       "<table border=\"1\" class=\"dataframe\">\n",
       "  <thead>\n",
       "    <tr style=\"text-align: right;\">\n",
       "      <th></th>\n",
       "      <th>date</th>\n",
       "      <th>category</th>\n",
       "      <th>title</th>\n",
       "      <th>amount</th>\n",
       "    </tr>\n",
       "  </thead>\n",
       "  <tbody>\n",
       "    <tr>\n",
       "      <th>22</th>\n",
       "      <td>2021-09-30</td>\n",
       "      <td>transporte</td>\n",
       "      <td>Uber *Uber *Trip</td>\n",
       "      <td>26.94</td>\n",
       "    </tr>\n",
       "    <tr>\n",
       "      <th>23</th>\n",
       "      <td>2021-10-02</td>\n",
       "      <td>transporte</td>\n",
       "      <td>Uber *Uber *Trip</td>\n",
       "      <td>8.90</td>\n",
       "    </tr>\n",
       "    <tr>\n",
       "      <th>24</th>\n",
       "      <td>2021-10-04</td>\n",
       "      <td>transporte</td>\n",
       "      <td>Uber *Uber *Trip</td>\n",
       "      <td>14.93</td>\n",
       "    </tr>\n",
       "    <tr>\n",
       "      <th>25</th>\n",
       "      <td>2021-10-04</td>\n",
       "      <td>transporte</td>\n",
       "      <td>Uber *Uber *Trip</td>\n",
       "      <td>4.00</td>\n",
       "    </tr>\n",
       "    <tr>\n",
       "      <th>26</th>\n",
       "      <td>2021-10-04</td>\n",
       "      <td>transporte</td>\n",
       "      <td>Uber *Uber *Trip</td>\n",
       "      <td>28.99</td>\n",
       "    </tr>\n",
       "    <tr>\n",
       "      <th>28</th>\n",
       "      <td>2021-10-04</td>\n",
       "      <td>transporte</td>\n",
       "      <td>99app *99app</td>\n",
       "      <td>13.70</td>\n",
       "    </tr>\n",
       "    <tr>\n",
       "      <th>29</th>\n",
       "      <td>2021-10-04</td>\n",
       "      <td>transporte</td>\n",
       "      <td>Uber *Trip Help.Uber.C</td>\n",
       "      <td>4.50</td>\n",
       "    </tr>\n",
       "    <tr>\n",
       "      <th>33</th>\n",
       "      <td>2021-10-06</td>\n",
       "      <td>transporte</td>\n",
       "      <td>99app *99app</td>\n",
       "      <td>14.30</td>\n",
       "    </tr>\n",
       "    <tr>\n",
       "      <th>34</th>\n",
       "      <td>2021-10-06</td>\n",
       "      <td>transporte</td>\n",
       "      <td>99app *99app</td>\n",
       "      <td>13.40</td>\n",
       "    </tr>\n",
       "    <tr>\n",
       "      <th>38</th>\n",
       "      <td>2021-10-08</td>\n",
       "      <td>transporte</td>\n",
       "      <td>Uber *Trip</td>\n",
       "      <td>30.91</td>\n",
       "    </tr>\n",
       "    <tr>\n",
       "      <th>42</th>\n",
       "      <td>2021-10-09</td>\n",
       "      <td>transporte</td>\n",
       "      <td>99app *99app</td>\n",
       "      <td>15.38</td>\n",
       "    </tr>\n",
       "    <tr>\n",
       "      <th>54</th>\n",
       "      <td>2021-10-11</td>\n",
       "      <td>transporte</td>\n",
       "      <td>Eco Empreendimentos Co</td>\n",
       "      <td>115.03</td>\n",
       "    </tr>\n",
       "    <tr>\n",
       "      <th>66</th>\n",
       "      <td>2021-10-16</td>\n",
       "      <td>transporte</td>\n",
       "      <td>Bm Estetica Automotiva</td>\n",
       "      <td>50.00</td>\n",
       "    </tr>\n",
       "    <tr>\n",
       "      <th>69</th>\n",
       "      <td>2021-10-16</td>\n",
       "      <td>transporte</td>\n",
       "      <td>Pb Administradora de</td>\n",
       "      <td>14.00</td>\n",
       "    </tr>\n",
       "    <tr>\n",
       "      <th>77</th>\n",
       "      <td>2021-10-20</td>\n",
       "      <td>transporte</td>\n",
       "      <td>99app *99app</td>\n",
       "      <td>19.50</td>\n",
       "    </tr>\n",
       "    <tr>\n",
       "      <th>83</th>\n",
       "      <td>2021-10-21</td>\n",
       "      <td>transporte</td>\n",
       "      <td>99app *99app</td>\n",
       "      <td>18.00</td>\n",
       "    </tr>\n",
       "    <tr>\n",
       "      <th>84</th>\n",
       "      <td>2021-10-21</td>\n",
       "      <td>transporte</td>\n",
       "      <td>99app *99app</td>\n",
       "      <td>22.60</td>\n",
       "    </tr>\n",
       "    <tr>\n",
       "      <th>87</th>\n",
       "      <td>2021-10-24</td>\n",
       "      <td>transporte</td>\n",
       "      <td>99app *99app</td>\n",
       "      <td>12.80</td>\n",
       "    </tr>\n",
       "    <tr>\n",
       "      <th>88</th>\n",
       "      <td>2021-10-24</td>\n",
       "      <td>transporte</td>\n",
       "      <td>Uber *Uber *Trip</td>\n",
       "      <td>10.93</td>\n",
       "    </tr>\n",
       "    <tr>\n",
       "      <th>89</th>\n",
       "      <td>2021-10-24</td>\n",
       "      <td>transporte</td>\n",
       "      <td>99app *99app</td>\n",
       "      <td>4.00</td>\n",
       "    </tr>\n",
       "    <tr>\n",
       "      <th>90</th>\n",
       "      <td>2021-10-25</td>\n",
       "      <td>transporte</td>\n",
       "      <td>Uber *Uber *Trip</td>\n",
       "      <td>10.92</td>\n",
       "    </tr>\n",
       "    <tr>\n",
       "      <th>91</th>\n",
       "      <td>2021-10-25</td>\n",
       "      <td>transporte</td>\n",
       "      <td>Uber *Uber *Trip</td>\n",
       "      <td>10.98</td>\n",
       "    </tr>\n",
       "    <tr>\n",
       "      <th>93</th>\n",
       "      <td>2021-10-26</td>\n",
       "      <td>transporte</td>\n",
       "      <td>Uber *Uber *Trip</td>\n",
       "      <td>24.99</td>\n",
       "    </tr>\n",
       "  </tbody>\n",
       "</table>\n",
       "</div>"
      ],
      "text/plain": [
       "          date    category                   title  amount\n",
       "22  2021-09-30  transporte        Uber *Uber *Trip   26.94\n",
       "23  2021-10-02  transporte        Uber *Uber *Trip    8.90\n",
       "24  2021-10-04  transporte        Uber *Uber *Trip   14.93\n",
       "25  2021-10-04  transporte        Uber *Uber *Trip    4.00\n",
       "26  2021-10-04  transporte        Uber *Uber *Trip   28.99\n",
       "28  2021-10-04  transporte            99app *99app   13.70\n",
       "29  2021-10-04  transporte  Uber *Trip Help.Uber.C    4.50\n",
       "33  2021-10-06  transporte            99app *99app   14.30\n",
       "34  2021-10-06  transporte            99app *99app   13.40\n",
       "38  2021-10-08  transporte              Uber *Trip   30.91\n",
       "42  2021-10-09  transporte            99app *99app   15.38\n",
       "54  2021-10-11  transporte  Eco Empreendimentos Co  115.03\n",
       "66  2021-10-16  transporte  Bm Estetica Automotiva   50.00\n",
       "69  2021-10-16  transporte    Pb Administradora de   14.00\n",
       "77  2021-10-20  transporte            99app *99app   19.50\n",
       "83  2021-10-21  transporte            99app *99app   18.00\n",
       "84  2021-10-21  transporte            99app *99app   22.60\n",
       "87  2021-10-24  transporte            99app *99app   12.80\n",
       "88  2021-10-24  transporte        Uber *Uber *Trip   10.93\n",
       "89  2021-10-24  transporte            99app *99app    4.00\n",
       "90  2021-10-25  transporte        Uber *Uber *Trip   10.92\n",
       "91  2021-10-25  transporte        Uber *Uber *Trip   10.98\n",
       "93  2021-10-26  transporte        Uber *Uber *Trip   24.99"
      ]
     },
     "execution_count": 37,
     "metadata": {},
     "output_type": "execute_result"
    }
   ],
   "source": [
    "# Check categories\n",
    "nubank[nubank['category'] == 'transporte']"
   ]
  },
  {
   "cell_type": "markdown",
   "id": "designing-crazy",
   "metadata": {},
   "source": [
    "### > Save editted costs"
   ]
  },
  {
   "cell_type": "code",
   "execution_count": 38,
   "id": "victorian-version",
   "metadata": {},
   "outputs": [],
   "source": [
    "nubank.to_csv('custos/custos-{}.csv'.format(month))"
   ]
  }
 ],
 "metadata": {
  "kernelspec": {
   "display_name": "Python 3 (ipykernel)",
   "language": "python",
   "name": "python3"
  },
  "language_info": {
   "codemirror_mode": {
    "name": "ipython",
    "version": 3
   },
   "file_extension": ".py",
   "mimetype": "text/x-python",
   "name": "python",
   "nbconvert_exporter": "python",
   "pygments_lexer": "ipython3",
   "version": "3.9.5"
  }
 },
 "nbformat": 4,
 "nbformat_minor": 5
}
