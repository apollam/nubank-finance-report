{
 "cells": [
  {
   "cell_type": "code",
   "execution_count": 1,
   "metadata": {},
   "outputs": [],
   "source": [
    "!pip install seaborn --quiet"
   ]
  },
  {
   "cell_type": "code",
   "execution_count": 2,
   "metadata": {},
   "outputs": [],
   "source": [
    "import pandas as pd\n",
    "import numpy as np\n",
    "import re\n",
    "import matplotlib\n",
    "import matplotlib.pyplot as plt\n",
    "import seaborn as sns\n",
    "\n",
    "%matplotlib inline\n",
    "pd.options.display.max_columns = 2000\n",
    "pd.options.display.max_rows = 2000"
   ]
  },
  {
   "cell_type": "markdown",
   "metadata": {},
   "source": [
    "<BR>\n",
    "    \n",
    "# AUXILIAR FUNCTIONS"
   ]
  },
  {
   "cell_type": "code",
   "execution_count": 4,
   "metadata": {},
   "outputs": [],
   "source": [
    "def plot_categories_expenses(categories_expenses):\n",
    "    fig, ax = plt.subplots()\n",
    "    df = pd.DataFrame(categories_expenses).reset_index()\n",
    "    sns.barplot(x='sum', \n",
    "                y='category', \n",
    "                data=df, \n",
    "                color='xkcd:azure', \n",
    "                ax=ax,\n",
    "                edgecolor=(0,0,0),\n",
    "                linewidth=1) \n",
    "    ax.set_xlabel('Money spent')\n",
    "    ax.set_ylabel('')\n",
    "    ax.set_title('Categories Expenses')\n",
    "\n",
    "    plt.plot()"
   ]
  },
  {
   "cell_type": "code",
   "execution_count": 13,
   "metadata": {},
   "outputs": [],
   "source": [
    "def get_categories_expenses(df):\n",
    "    categories = []\n",
    "    for category in df['category'].unique().tolist():\n",
    "        categories.append([category, df[df['category'] == category].amount.sum()])\n",
    "\n",
    "    categories = pd.DataFrame(categories, columns=['category', 'sum']).set_index('category')\n",
    "    \n",
    "    return categories['sum'].sort_values(ascending=False)"
   ]
  },
  {
   "cell_type": "markdown",
   "metadata": {},
   "source": [
    "<BR>\n",
    "    \n",
    "# SET ATTRIBUTES"
   ]
  },
  {
   "cell_type": "code",
   "execution_count": 6,
   "metadata": {},
   "outputs": [],
   "source": [
    "month = '2021-11'"
   ]
  },
  {
   "cell_type": "code",
   "execution_count": 7,
   "metadata": {},
   "outputs": [],
   "source": [
    "# Set your income here for each month\n",
    "incomes = {\n",
    "    '2021-11': 8000\n",
    "}"
   ]
  },
  {
   "cell_type": "markdown",
   "metadata": {},
   "source": [
    "<br>\n",
    "\n",
    "# GET DATA"
   ]
  },
  {
   "cell_type": "code",
   "execution_count": 9,
   "metadata": {},
   "outputs": [],
   "source": [
    "nubank = pd.read_csv('custos/custos-{}.csv'.format(month)).dropna()"
   ]
  },
  {
   "cell_type": "code",
   "execution_count": 11,
   "metadata": {},
   "outputs": [],
   "source": [
    "income = incomes[month]"
   ]
  },
  {
   "cell_type": "markdown",
   "metadata": {},
   "source": [
    "<br> \n",
    "\n",
    "# PRINT REPORT"
   ]
  },
  {
   "cell_type": "code",
   "execution_count": 16,
   "metadata": {},
   "outputs": [],
   "source": [
    "nubank['date'] = nubank['date'].astype('datetime64[ns]')\n",
    "nubank['day_of_the_month'] = nubank['date'].apply(lambda x: int(x.day))"
   ]
  },
  {
   "cell_type": "markdown",
   "metadata": {},
   "source": [
    "### > Top expenses"
   ]
  },
  {
   "cell_type": "code",
   "execution_count": 17,
   "metadata": {},
   "outputs": [
    {
     "name": "stdout",
     "output_type": "stream",
     "text": [
      "Your top expenses were: \n",
      "\n",
      "                      title       category   amount\n",
      "94  Aluguel+Condominio+água         contas  2000.00\n",
      "50     P N S das Merces 1/2         viagem   465.00\n",
      "71   Sup Epa Setenta e Oito   supermercado   443.00\n",
      "11    Apart Interiores 9/10  novas_compras   299.00\n",
      "72        Zp *Sympla 3j5y5k  novas_compras   220.00\n",
      "95                      Luz         contas   200.00\n",
      "40             Art Walk 1/4  novas_compras   173.75\n",
      "65        Zp *Sympla 3j5yr2  novas_compras   165.00\n",
      "53   Tenente Pimenta Pub Ba    restaurante   162.25\n",
      "49                  O Passo    restaurante   156.20\n"
     ]
    }
   ],
   "source": [
    "print(\"Your top expenses were: \\n\")\n",
    "print(nubank.sort_values('amount', ascending=False)[['title', 'category', 'amount']].head(10))"
   ]
  },
  {
   "cell_type": "markdown",
   "metadata": {},
   "source": [
    "### > Costs by category"
   ]
  },
  {
   "cell_type": "code",
   "execution_count": 18,
   "metadata": {},
   "outputs": [],
   "source": [
    "categories_expenses = get_categories_expenses(nubank)"
   ]
  },
  {
   "cell_type": "code",
   "execution_count": 19,
   "metadata": {},
   "outputs": [
    {
     "name": "stdout",
     "output_type": "stream",
     "text": [
      "category\n",
      "contas           2604.90\n",
      "novas_compras    2131.33\n",
      "restaurante      1032.34\n",
      "supermercado      953.90\n",
      "transporte        489.70\n",
      "viagem            465.00\n",
      "saúde             236.28\n",
      "serviços          236.23\n",
      "Name: sum, dtype: float64\n"
     ]
    },
    {
     "data": {
      "image/png": "[encoded data removed]",
      "text/plain": [
       "<Figure size 432x288 with 1 Axes>"
      ]
     },
     "metadata": {
      "needs_background": "light"
     },
     "output_type": "display_data"
    }
   ],
   "source": [
    "plot_categories_expenses(get_categories_expenses(nubank))\n",
    "print(categories_expenses)"
   ]
  },
  {
   "cell_type": "markdown",
   "metadata": {},
   "source": [
    "### > DIAGNOSIS"
   ]
  },
  {
   "cell_type": "code",
   "execution_count": 26,
   "metadata": {},
   "outputs": [],
   "source": [
    "income_month = month\n",
    "income = incomes[month]\n",
    "\n",
    "cost = nubank['amount'].sum()\n",
    "\n",
    "fixed_costs = nubank[(nubank['category']=='contas')]['amount'].sum()\n",
    "\n",
    "superfluous = nubank[(nubank['category']=='novas_compras') | \n",
    "                     (nubank['category']=='videogames') |\n",
    "                     (nubank['category']=='bar') |\n",
    "                     (nubank['category']=='restaurante') \n",
    "                    ]['amount'].sum()\n",
    "\n",
    "mandatory = nubank[(nubank['category']=='saúde') |\n",
    "                   (nubank['category']=='supermercado') |\n",
    "                   (nubank['category']=='serviços') |\n",
    "                   (nubank['category']=='transporte')\n",
    "                  ]['amount'].sum()"
   ]
  },
  {
   "cell_type": "code",
   "execution_count": 27,
   "metadata": {},
   "outputs": [
    {
     "name": "stdout",
     "output_type": "stream",
     "text": [
      "Month: 2021-11\n",
      "Month income: R$9236.39\n",
      "Month costs: R$8149.68\n",
      "\n",
      "Total spent with fixed costs: R$2604.90\n",
      "Total spent with superfluous expenses: R$3163.67\n",
      "Total spent with mandatory expenses: R$1916.11\n",
      "\n",
      "You've saved around R$1086.71.\n",
      "If you hadn't spent money on superfluous stuff, you'd have saved a total of R$4521.01 this month.\n"
     ]
    }
   ],
   "source": [
    "print('Month: {}'.format(income_month))\n",
    "print('Month income: R${:.2f}'.format(float(income)))\n",
    "print('Month costs: R${:.2f}'.format(cost))\n",
    "\n",
    "print('')\n",
    "print(\"Total spent with fixed costs: R${:.2f}\".format(fixed_costs))\n",
    "print(\"Total spent with superfluous expenses: R${:.2f}\".format(superfluous))\n",
    "print(\"Total spent with mandatory expenses: R${:.2f}\".format(mandatory))\n",
    "\n",
    "print('')\n",
    "print(\"You've saved around R${:.2f}.\".format(income - cost))\n",
    "print(\"If you hadn't spent money on superfluous stuff, \"\\\n",
    "      \"you'd have saved a total of R${:.2f} this month.\".format(fixed_costs+mandatory, income - cost + superfluous))"
   ]
  },
  {
   "cell_type": "markdown",
   "metadata": {},
   "source": [
    "### > Amount spent by day"
   ]
  },
  {
   "cell_type": "code",
   "execution_count": 23,
   "metadata": {},
   "outputs": [
    {
     "data": {
      "text/plain": [
       "[<matplotlib.lines.Line2D at 0x7fc8b02ca580>]"
      ]
     },
     "execution_count": 23,
     "metadata": {},
     "output_type": "execute_result"
    },
    {
     "data": {
      "image/png": "[encoded data removed]",
      "text/plain": [
       "<Figure size 864x360 with 1 Axes>"
      ]
     },
     "metadata": {
      "needs_background": "light"
     },
     "output_type": "display_data"
    }
   ],
   "source": [
    "plt.figure(figsize=(12,5))\n",
    "plt.plot(nubank['day_of_the_month'], nubank['amount'], linestyle='None', marker='o')"
   ]
  }
 ],
 "metadata": {
  "kernelspec": {
   "display_name": "Python 3 (ipykernel)",
   "language": "python",
   "name": "python3"
  },
  "language_info": {
   "codemirror_mode": {
    "name": "ipython",
    "version": 3
   },
   "file_extension": ".py",
   "mimetype": "text/x-python",
   "name": "python",
   "nbconvert_exporter": "python",
   "pygments_lexer": "ipython3",
   "version": "3.9.5"
  }
 },
 "nbformat": 4,
 "nbformat_minor": 4
}
